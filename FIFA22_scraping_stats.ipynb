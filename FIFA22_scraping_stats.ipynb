{
 "cells": [
  {
   "cell_type": "markdown",
   "id": "fd1900d6-af9f-4285-a06e-3b204ed3dccf",
   "metadata": {},
   "source": [
    "### FIFA 22 WEB SCRAPING OF PLAYER STATS \n",
    "#### The stats are scraped from [FUTHEAD](https://www.futhead.com)\n",
    "![Unsplash image by Cristiano Pinto](img/cristiano-pinto-unsplash.jpg)\n",
    "<p>Photo by Cristiano Pinto on Unsplash</p>"
   ]
  },
  {
   "cell_type": "code",
   "execution_count": 1,
   "id": "03eda0ae-5c32-4c0a-85b1-7d195cad06e1",
   "metadata": {},
   "outputs": [],
   "source": [
    "# Importing necessary libraries\n",
    "\n",
    "import numpy as np \n",
    "import pandas as pd\n",
    "import requests\n",
    "from bs4 import BeautifulSoup as bs"
   ]
  },
  {
   "cell_type": "code",
   "execution_count": 2,
   "id": "392a6c07-c65c-48ae-b7b7-4e5983214ac7",
   "metadata": {
    "tags": []
   },
   "outputs": [],
   "source": [
    "def get_player_urls():\n",
    "    player_urls = [] # An empty list that will carry urls for each player info from page 1 to 209\n",
    "    \"\"\" The function collects urls for each webpage. \n",
    "    \n",
    "    The players list spans from webpage 1 to 209. From each webpage, each player url is obtained returned\n",
    "    \n",
    "    Returns\n",
    "    -------\n",
    "    player_urls\n",
    "        A list of urls for each player on the database\n",
    "    \"\"\"\n",
    "    for page in range(1,210):\n",
    "        page_url = 'https://www.futhead.com/22/players/?page={}&level=all_nif'.format(page)  \n",
    "        fifa = requests.get(page_url)\n",
    "        fifaSoup = bs(fifa.text, 'html.parser')\n",
    "        for player_row in fifaSoup.findAll(class_='display-block padding-0'): # Each player_row holds and individual player information\n",
    "            player_relative_url = player_row['href']\n",
    "            player_absolute_url = 'http://futhead.com' + player_relative_url\n",
    "            player_urls.append(player_absolute_url)\n",
    "    return player_urls\n",
    "\n",
    "all_player_urls = get_player_urls() "
   ]
  },
  {
   "cell_type": "code",
   "execution_count": null,
   "id": "c482eb8a-8ce5-4ff4-8c8d-21a1230b3229",
   "metadata": {
    "tags": []
   },
   "outputs": [],
   "source": [
    "all_players_stats = [] # A list of dictionaries that will carry each player information\n",
    "\n",
    "def get_player_stats():\n",
    "    \"\"\"\n",
    "    The function skims through a list of player urls and scraps their stats \n",
    "    \n",
    "    \"\"\"\n",
    "    for player_url in all_player_urls :\n",
    "        player_stats_full = {} # Empty dictionary to hold stats for each individual player\n",
    "        player = requests.get(player_url)\n",
    "        if player.status_code != 200:\n",
    "            continue\n",
    "        playerSoup = bs(player.text, 'html.parser')\n",
    "        \n",
    "        playerinfo = [] # Carries the raw information\n",
    "        playerinfo_stripped = [] # Whitespaces stripped\n",
    "\n",
    "        for trait in playerSoup.findAll(class_='col-xs-5 player-sidebar-value'): \n",
    "            playerinfo.append(trait.text)\n",
    "\n",
    "        for item in playerinfo:\n",
    "            item = item.strip() \n",
    "            playerinfo_stripped.append(item)\n",
    "\n",
    "            player_stats_full['id'] = playerinfo_stripped[-1]\n",
    "            playername = playerSoup.find(class_= 'font-16 fh-red').text\n",
    "            player_stats_full['name'] = playername.strip()\n",
    "            \n",
    "            player_stats_full['club'] = playerinfo_stripped[0]\n",
    "\n",
    "        for item in playerSoup.findAll(class_='divided-row player-stat-row sm'): # Player stat name and its corresponding value\n",
    "            player_stats = item.text \n",
    "            player_stats = player_stats.strip()\n",
    "            stat_name = player_stats[:-2].strip()\n",
    "            stat_value = player_stats[-2:]    \n",
    "            try:\n",
    "                player_stats_full[stat_name] = int(stat_value)\n",
    "            except:\n",
    "                player_stats_full[stat_name] = stat_value\n",
    "        \n",
    "        all_players_stats.append(player_stats_full)    \n",
    "\n",
    "get_player_stats()"
   ]
  },
  {
   "cell_type": "code",
   "execution_count": null,
   "id": "4ead5abe-52be-455b-8405-38e2b8dfb192",
   "metadata": {},
   "outputs": [],
   "source": [
    "outfield_players_df = pd.DataFrame(all_players_stats)\n",
    "outfield_players_df = outfield_players_df.set_index('id')\n",
    "outfield_players_df.to_csv('datasets/outfield_players_stats.csv')"
   ]
  },
  {
   "cell_type": "code",
   "execution_count": null,
   "id": "2caa58db-dc2b-4be5-9473-2ad3be450aa8",
   "metadata": {},
   "outputs": [],
   "source": [
    "outfield_players_df"
   ]
  },
  {
   "cell_type": "code",
   "execution_count": null,
   "id": "c8842897-9fd4-4b5f-b81e-fb7e871c8f11",
   "metadata": {},
   "outputs": [],
   "source": []
  }
 ],
 "metadata": {
  "kernelspec": {
   "display_name": "Python 3 (ipykernel)",
   "language": "python",
   "name": "python3"
  },
  "language_info": {
   "codemirror_mode": {
    "name": "ipython",
    "version": 3
   },
   "file_extension": ".py",
   "mimetype": "text/x-python",
   "name": "python",
   "nbconvert_exporter": "python",
   "pygments_lexer": "ipython3",
   "version": "3.9.12"
  }
 },
 "nbformat": 4,
 "nbformat_minor": 5
}
